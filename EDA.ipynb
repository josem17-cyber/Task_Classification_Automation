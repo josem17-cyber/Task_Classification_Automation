{
 "cells": [
  {
   "cell_type": "markdown",
   "id": "a860e451-b811-441d-9c95-ee3fa55b5d3a",
   "metadata": {},
   "source": [
    "# EDA previo de los datos"
   ]
  },
  {
   "cell_type": "markdown",
   "id": "0390180d-7aaa-49ab-9ac2-3ea33820d045",
   "metadata": {},
   "source": [
    "En primer lugar vamos importar los datos necesarios para nuestro análisis exploratorio. Usaremos para última versión del modelo el conjunto de datos de 2023 para entrenar el modelo y después el conjunto de 2024 para realizar los test."
   ]
  },
  {
   "cell_type": "code",
   "execution_count": 1,
   "id": "17aee6e8-1598-439e-bebc-675ceac7020f",
   "metadata": {},
   "outputs": [],
   "source": [
    "import pandas as pd\n",
    "import openpyxl\n",
    "\n",
    "train_df = pd.read_excel('data/final_data/CAT_SPAM_2023_E.xlsx')\n",
    "test_df = pd.read_excel('data/final_data/CAT_SPAM_2024_E.xlsx')"
   ]
  },
  {
   "cell_type": "code",
   "execution_count": 2,
   "id": "e3b47520-e168-4eef-8a09-d0e11db18b5b",
   "metadata": {},
   "outputs": [
    {
     "data": {
      "text/html": [
       "<div>\n",
       "<style scoped>\n",
       "    .dataframe tbody tr th:only-of-type {\n",
       "        vertical-align: middle;\n",
       "    }\n",
       "\n",
       "    .dataframe tbody tr th {\n",
       "        vertical-align: top;\n",
       "    }\n",
       "\n",
       "    .dataframe thead th {\n",
       "        text-align: right;\n",
       "    }\n",
       "</style>\n",
       "<table border=\"1\" class=\"dataframe\">\n",
       "  <thead>\n",
       "    <tr style=\"text-align: right;\">\n",
       "      <th></th>\n",
       "      <th>CodigoTarea</th>\n",
       "      <th>IDEmail</th>\n",
       "      <th>De</th>\n",
       "      <th>Cuerpo</th>\n",
       "      <th>Categoria</th>\n",
       "    </tr>\n",
       "  </thead>\n",
       "  <tbody>\n",
       "    <tr>\n",
       "      <th>0</th>\n",
       "      <td>NaN</td>\n",
       "      <td>1464096</td>\n",
       "      <td>info@news.seleccionfiguras.com</td>\n",
       "      <td>\\t_x000d_\\n\\tSi vous ne parvenez pas à lire ce...</td>\n",
       "      <td>SPAM</td>\n",
       "    </tr>\n",
       "    <tr>\n",
       "      <th>1</th>\n",
       "      <td>NaN</td>\n",
       "      <td>1464106</td>\n",
       "      <td>hanson@dyparking.co.kr</td>\n",
       "      <td>\\tAlgunos contactos que recibieron este mensaj...</td>\n",
       "      <td>SPAM</td>\n",
       "    </tr>\n",
       "    <tr>\n",
       "      <th>2</th>\n",
       "      <td>NaN</td>\n",
       "      <td>1464124</td>\n",
       "      <td>m.michel@mp.aconclue-pro.com</td>\n",
       "      <td>Ce message vous est adressé par Manageo pour l...</td>\n",
       "      <td>SPAM</td>\n",
       "    </tr>\n",
       "    <tr>\n",
       "      <th>3</th>\n",
       "      <td>NaN</td>\n",
       "      <td>1464127</td>\n",
       "      <td>sandra-de-rgpd@veml02.com</td>\n",
       "      <td>Bonjour M. RENASSIA, _x000d_\\n_x000d_\\n_x000d_...</td>\n",
       "      <td>SPAM</td>\n",
       "    </tr>\n",
       "    <tr>\n",
       "      <th>4</th>\n",
       "      <td>NaN</td>\n",
       "      <td>1464148</td>\n",
       "      <td>staff.news@cepartscatalog.it</td>\n",
       "      <td>&lt;https://nl.cepartsoftware.com/MCP53133623730...</td>\n",
       "      <td>SPAM</td>\n",
       "    </tr>\n",
       "  </tbody>\n",
       "</table>\n",
       "</div>"
      ],
      "text/plain": [
       "   CodigoTarea  IDEmail                              De  \\\n",
       "0          NaN  1464096  info@news.seleccionfiguras.com   \n",
       "1          NaN  1464106          hanson@dyparking.co.kr   \n",
       "2          NaN  1464124    m.michel@mp.aconclue-pro.com   \n",
       "3          NaN  1464127       sandra-de-rgpd@veml02.com   \n",
       "4          NaN  1464148    staff.news@cepartscatalog.it   \n",
       "\n",
       "                                              Cuerpo Categoria  \n",
       "0  \\t_x000d_\\n\\tSi vous ne parvenez pas à lire ce...      SPAM  \n",
       "1  \\tAlgunos contactos que recibieron este mensaj...      SPAM  \n",
       "2  Ce message vous est adressé par Manageo pour l...      SPAM  \n",
       "3  Bonjour M. RENASSIA, _x000d_\\n_x000d_\\n_x000d_...      SPAM  \n",
       "4   <https://nl.cepartsoftware.com/MCP53133623730...      SPAM  "
      ]
     },
     "execution_count": 2,
     "metadata": {},
     "output_type": "execute_result"
    }
   ],
   "source": [
    "train_df.head()"
   ]
  },
  {
   "cell_type": "code",
   "execution_count": 3,
   "id": "1f1b838b-17d5-4c6e-99e2-041dacc0f961",
   "metadata": {},
   "outputs": [
    {
     "data": {
      "text/html": [
       "<div>\n",
       "<style scoped>\n",
       "    .dataframe tbody tr th:only-of-type {\n",
       "        vertical-align: middle;\n",
       "    }\n",
       "\n",
       "    .dataframe tbody tr th {\n",
       "        vertical-align: top;\n",
       "    }\n",
       "\n",
       "    .dataframe thead th {\n",
       "        text-align: right;\n",
       "    }\n",
       "</style>\n",
       "<table border=\"1\" class=\"dataframe\">\n",
       "  <thead>\n",
       "    <tr style=\"text-align: right;\">\n",
       "      <th></th>\n",
       "      <th>CodigoTarea</th>\n",
       "      <th>IDEmail</th>\n",
       "      <th>De</th>\n",
       "      <th>Cuerpo</th>\n",
       "      <th>Categoria</th>\n",
       "    </tr>\n",
       "  </thead>\n",
       "  <tbody>\n",
       "    <tr>\n",
       "      <th>0</th>\n",
       "      <td>NaN</td>\n",
       "      <td>1669549</td>\n",
       "      <td>mail@notes.conquetemarche.com</td>\n",
       "      <td>\\t_x000d_\\n\\tSi vous ne parvenez pas à lire ce...</td>\n",
       "      <td>SPAM</td>\n",
       "    </tr>\n",
       "    <tr>\n",
       "      <th>1</th>\n",
       "      <td>NaN</td>\n",
       "      <td>1669559</td>\n",
       "      <td>KAISEODEVELOPER@outlook.com</td>\n",
       "      <td>Hi,_x000d_\\n_x000d_\\nI can help your website t...</td>\n",
       "      <td>SPAM</td>\n",
       "    </tr>\n",
       "    <tr>\n",
       "      <th>2</th>\n",
       "      <td>NaN</td>\n",
       "      <td>1669568</td>\n",
       "      <td>m.michel@mp.aconclue-pro.com</td>\n",
       "      <td>Ce message vous est adressé par Manageo pour l...</td>\n",
       "      <td>SPAM</td>\n",
       "    </tr>\n",
       "    <tr>\n",
       "      <th>3</th>\n",
       "      <td>NaN</td>\n",
       "      <td>1669577</td>\n",
       "      <td>Violaliza.Abad@us.kbr.com</td>\n",
       "      <td>Proprietary \\ KBR confidential_x000d_\\n_x000d_...</td>\n",
       "      <td>SPAM</td>\n",
       "    </tr>\n",
       "    <tr>\n",
       "      <th>4</th>\n",
       "      <td>NaN</td>\n",
       "      <td>1669745</td>\n",
       "      <td>info@newsnook24.com</td>\n",
       "      <td>Si vous ne parvenez pas à visualiser cet email...</td>\n",
       "      <td>SPAM</td>\n",
       "    </tr>\n",
       "  </tbody>\n",
       "</table>\n",
       "</div>"
      ],
      "text/plain": [
       "   CodigoTarea  IDEmail                             De  \\\n",
       "0          NaN  1669549  mail@notes.conquetemarche.com   \n",
       "1          NaN  1669559    KAISEODEVELOPER@outlook.com   \n",
       "2          NaN  1669568   m.michel@mp.aconclue-pro.com   \n",
       "3          NaN  1669577      Violaliza.Abad@us.kbr.com   \n",
       "4          NaN  1669745            info@newsnook24.com   \n",
       "\n",
       "                                              Cuerpo Categoria  \n",
       "0  \\t_x000d_\\n\\tSi vous ne parvenez pas à lire ce...      SPAM  \n",
       "1  Hi,_x000d_\\n_x000d_\\nI can help your website t...      SPAM  \n",
       "2  Ce message vous est adressé par Manageo pour l...      SPAM  \n",
       "3  Proprietary \\ KBR confidential_x000d_\\n_x000d_...      SPAM  \n",
       "4  Si vous ne parvenez pas à visualiser cet email...      SPAM  "
      ]
     },
     "execution_count": 3,
     "metadata": {},
     "output_type": "execute_result"
    }
   ],
   "source": [
    "test_df.head()"
   ]
  },
  {
   "cell_type": "code",
   "execution_count": 11,
   "id": "d493db3c-7f77-457f-9fee-9b94c7a19ab1",
   "metadata": {},
   "outputs": [
    {
     "data": {
      "text/html": [
       "<div>\n",
       "<style scoped>\n",
       "    .dataframe tbody tr th:only-of-type {\n",
       "        vertical-align: middle;\n",
       "    }\n",
       "\n",
       "    .dataframe tbody tr th {\n",
       "        vertical-align: top;\n",
       "    }\n",
       "\n",
       "    .dataframe thead th {\n",
       "        text-align: right;\n",
       "    }\n",
       "</style>\n",
       "<table border=\"1\" class=\"dataframe\">\n",
       "  <thead>\n",
       "    <tr style=\"text-align: right;\">\n",
       "      <th></th>\n",
       "      <th>CodigoTarea</th>\n",
       "      <th>IDEmail</th>\n",
       "      <th>De</th>\n",
       "      <th>Cuerpo</th>\n",
       "      <th>Categoria</th>\n",
       "    </tr>\n",
       "  </thead>\n",
       "  <tbody>\n",
       "    <tr>\n",
       "      <th>1</th>\n",
       "      <td>1034918.0</td>\n",
       "      <td>1464101</td>\n",
       "      <td>david.moya@schindler.com</td>\n",
       "      <td>Buenos días,_x000d_\\n_x000d_\\n _x000d_\\n_x000d...</td>\n",
       "      <td>OMOD</td>\n",
       "    </tr>\n",
       "    <tr>\n",
       "      <th>3</th>\n",
       "      <td>1034934.0</td>\n",
       "      <td>1464117</td>\n",
       "      <td>c.zaballos@imem.com</td>\n",
       "      <td>\\t_x000d_\\n\\t_x000d_\\n &lt;http://imem.com/wp-con...</td>\n",
       "      <td>OMOD</td>\n",
       "    </tr>\n",
       "    <tr>\n",
       "      <th>4</th>\n",
       "      <td>1034936.0</td>\n",
       "      <td>1464119</td>\n",
       "      <td>projektowanie@global-lift.pl</td>\n",
       "      <td>Dear Sirs,_x000d_\\n_x000d_\\n _x000d_\\n_x000d_\\...</td>\n",
       "      <td>OMOD</td>\n",
       "    </tr>\n",
       "    <tr>\n",
       "      <th>6</th>\n",
       "      <td>1034943.0</td>\n",
       "      <td>1464126</td>\n",
       "      <td>keltuvai@paradis.lt</td>\n",
       "      <td>Dear Sirs,_x000d_\\n_x000d_\\n _x000d_\\n_x000d_\\...</td>\n",
       "      <td>OMOD</td>\n",
       "    </tr>\n",
       "    <tr>\n",
       "      <th>7</th>\n",
       "      <td>1034947.0</td>\n",
       "      <td>1464130</td>\n",
       "      <td>diogoviegas.pimenta@schindler.com</td>\n",
       "      <td>Bom dia _x000d_\\n_x000d_\\n _x000d_\\n_x000d_\\nN...</td>\n",
       "      <td>OMOD</td>\n",
       "    </tr>\n",
       "    <tr>\n",
       "      <th>...</th>\n",
       "      <td>...</td>\n",
       "      <td>...</td>\n",
       "      <td>...</td>\n",
       "      <td>...</td>\n",
       "      <td>...</td>\n",
       "    </tr>\n",
       "    <tr>\n",
       "      <th>17812</th>\n",
       "      <td>1174542.0</td>\n",
       "      <td>1669104</td>\n",
       "      <td>david.fernandez@schindler.com</td>\n",
       "      <td>Buenas tardes,_x000d_\\n_x000d_\\n _x000d_\\n_x00...</td>\n",
       "      <td>OMOD</td>\n",
       "    </tr>\n",
       "    <tr>\n",
       "      <th>17821</th>\n",
       "      <td>1174659.0</td>\n",
       "      <td>1669267</td>\n",
       "      <td>biuro@global-lift.pl</td>\n",
       "      <td>Dear Sirs,_x000d_\\n_x000d_\\n _x000d_\\n_x000d_\\...</td>\n",
       "      <td>OMOD</td>\n",
       "    </tr>\n",
       "    <tr>\n",
       "      <th>17836</th>\n",
       "      <td>1174754.0</td>\n",
       "      <td>1669430</td>\n",
       "      <td>a.gallardo@hidral.fr</td>\n",
       "      <td>Buenas:_x000d_\\npara este PH necesito precio d...</td>\n",
       "      <td>OMOD</td>\n",
       "    </tr>\n",
       "    <tr>\n",
       "      <th>17837</th>\n",
       "      <td>1174767.0</td>\n",
       "      <td>1664941</td>\n",
       "      <td>sso09@orona-group.com</td>\n",
       "      <td>Buenas tardes,_x000d_\\n_x000d_\\n _x000d_\\n_x00...</td>\n",
       "      <td>OMOD</td>\n",
       "    </tr>\n",
       "    <tr>\n",
       "      <th>17839</th>\n",
       "      <td>1174778.0</td>\n",
       "      <td>1669476</td>\n",
       "      <td>malaga@elevatorcommerce.com</td>\n",
       "      <td>Buenas tardes,_x000d_\\n_x000d_\\nSolicito preci...</td>\n",
       "      <td>OMOD</td>\n",
       "    </tr>\n",
       "  </tbody>\n",
       "</table>\n",
       "<p>3072 rows × 5 columns</p>\n",
       "</div>"
      ],
      "text/plain": [
       "       CodigoTarea  IDEmail                                 De  \\\n",
       "1        1034918.0  1464101           david.moya@schindler.com   \n",
       "3        1034934.0  1464117                c.zaballos@imem.com   \n",
       "4        1034936.0  1464119       projektowanie@global-lift.pl   \n",
       "6        1034943.0  1464126                keltuvai@paradis.lt   \n",
       "7        1034947.0  1464130  diogoviegas.pimenta@schindler.com   \n",
       "...            ...      ...                                ...   \n",
       "17812    1174542.0  1669104      david.fernandez@schindler.com   \n",
       "17821    1174659.0  1669267               biuro@global-lift.pl   \n",
       "17836    1174754.0  1669430               a.gallardo@hidral.fr   \n",
       "17837    1174767.0  1664941              sso09@orona-group.com   \n",
       "17839    1174778.0  1669476        malaga@elevatorcommerce.com   \n",
       "\n",
       "                                                  Cuerpo Categoria  \n",
       "1      Buenos días,_x000d_\\n_x000d_\\n _x000d_\\n_x000d...      OMOD  \n",
       "3      \\t_x000d_\\n\\t_x000d_\\n <http://imem.com/wp-con...      OMOD  \n",
       "4      Dear Sirs,_x000d_\\n_x000d_\\n _x000d_\\n_x000d_\\...      OMOD  \n",
       "6      Dear Sirs,_x000d_\\n_x000d_\\n _x000d_\\n_x000d_\\...      OMOD  \n",
       "7      Bom dia _x000d_\\n_x000d_\\n _x000d_\\n_x000d_\\nN...      OMOD  \n",
       "...                                                  ...       ...  \n",
       "17812  Buenas tardes,_x000d_\\n_x000d_\\n _x000d_\\n_x00...      OMOD  \n",
       "17821  Dear Sirs,_x000d_\\n_x000d_\\n _x000d_\\n_x000d_\\...      OMOD  \n",
       "17836  Buenas:_x000d_\\npara este PH necesito precio d...      OMOD  \n",
       "17837  Buenas tardes,_x000d_\\n_x000d_\\n _x000d_\\n_x00...      OMOD  \n",
       "17839  Buenas tardes,_x000d_\\n_x000d_\\nSolicito preci...      OMOD  \n",
       "\n",
       "[3072 rows x 5 columns]"
      ]
     },
     "execution_count": 11,
     "metadata": {},
     "output_type": "execute_result"
    }
   ],
   "source": [
    "train_df[train_df['Categoria'] == 'OMOD']"
   ]
  },
  {
   "cell_type": "code",
   "execution_count": 4,
   "id": "4b3e4759-f790-4dcc-87b6-6955de14e149",
   "metadata": {},
   "outputs": [
    {
     "name": "stdout",
     "output_type": "stream",
     "text": [
      "<class 'pandas.core.frame.DataFrame'>\n",
      "RangeIndex: 63871 entries, 0 to 63870\n",
      "Data columns (total 5 columns):\n",
      " #   Column       Non-Null Count  Dtype  \n",
      "---  ------       --------------  -----  \n",
      " 0   CodigoTarea  57611 non-null  float64\n",
      " 1   IDEmail      63871 non-null  int64  \n",
      " 2   De           63869 non-null  object \n",
      " 3   Cuerpo       63729 non-null  object \n",
      " 4   Categoria    63871 non-null  object \n",
      "dtypes: float64(1), int64(1), object(3)\n",
      "memory usage: 2.4+ MB\n"
     ]
    }
   ],
   "source": [
    "train_df.info()"
   ]
  },
  {
   "cell_type": "code",
   "execution_count": 5,
   "id": "a19631b5-8bd4-4b57-9174-e55cd661365e",
   "metadata": {},
   "outputs": [
    {
     "data": {
      "text/plain": [
       "Categoria\n",
       "OMOD    11733\n",
       "SEG     11012\n",
       "OREP     7763\n",
       "PREP     6651\n",
       "PMOD     6382\n",
       "SPAM     6260\n",
       "I        5885\n",
       "SAT      5461\n",
       "DOC      1248\n",
       "C        1211\n",
       "D         265\n",
       "Name: count, dtype: int64"
      ]
     },
     "execution_count": 5,
     "metadata": {},
     "output_type": "execute_result"
    }
   ],
   "source": [
    "train_df['Categoria'].value_counts()"
   ]
  },
  {
   "cell_type": "code",
   "execution_count": 6,
   "id": "730f67a3-0cd4-46c2-9001-3d0035d9110e",
   "metadata": {},
   "outputs": [
    {
     "data": {
      "image/png": "[encoded data removed]",
      "text/plain": [
       "<Figure size 1000x500 with 2 Axes>"
      ]
     },
     "metadata": {},
     "output_type": "display_data"
    }
   ],
   "source": [
    "import seaborn as sns\n",
    "import matplotlib.pyplot as plt\n",
    "\n",
    "fig, ax = plt.subplots(1, 2, sharex=True, figsize=(10, 5))\n",
    "\n",
    "sns.countplot(ax=ax[0], x=train_df.Categoria, hue=train_df.Categoria, palette=\"tab10\")\n",
    "ax[0].set_title(\"2023\")\n",
    "ax[0].tick_params(rotation=90)\n",
    "sns.countplot(ax=ax[1], x=test_df.Categoria, hue=test_df.Categoria, palette=\"tab10\")\n",
    "ax[1].set_title(\"2024\")\n",
    "ax[1].tick_params(rotation=90)"
   ]
  },
  {
   "cell_type": "markdown",
   "id": "b8eeffdb-a533-40f3-b4e6-b56f2c360e21",
   "metadata": {},
   "source": [
    "Sin embargo estos datos son irreales ya que tenemos que agrupar por código de tarea de tal manera que solo tomemos el primer correo de cada una de las tareas. Así podremos empezar a trabajar."
   ]
  },
  {
   "cell_type": "code",
   "execution_count": 7,
   "id": "52d0a48a-992c-43c4-9a20-47c14ae24b9d",
   "metadata": {},
   "outputs": [],
   "source": [
    "# Filtrar filas donde 'CodigoTarea' no es nulo\n",
    "train_df_non_null = train_df[train_df['CodigoTarea'].notnull()]\n",
    "\n",
    "# Agrupar solo las filas donde 'CodigoTarea' no es nulo\n",
    "train_df_grouped = train_df_non_null.groupby(by='CodigoTarea').agg({\n",
    "    'IDEmail': 'first',\n",
    "    'De': 'first',\n",
    "    'Cuerpo': 'first',\n",
    "    'Categoria': 'first'\n",
    "}).reset_index()\n",
    "\n",
    "# Concatenar las filas agrupadas con las filas donde 'CodigoTarea' es nulo\n",
    "train_df_null = train_df[train_df['CodigoTarea'].isnull()]\n",
    "train_df = pd.concat([train_df_grouped, train_df_null], ignore_index=True)"
   ]
  },
  {
   "cell_type": "code",
   "execution_count": 8,
   "id": "30703827-a429-40af-9a60-52851ac69c28",
   "metadata": {},
   "outputs": [],
   "source": [
    "# Filtrar filas donde 'CodigoTarea' no es nulo\n",
    "test_df_non_null = test_df[test_df['CodigoTarea'].notnull()]\n",
    "\n",
    "# Agrupar solo las filas donde 'CodigoTarea' no es nulo\n",
    "test_df_grouped = test_df_non_null.groupby(by='CodigoTarea').agg({\n",
    "    'IDEmail': 'first',\n",
    "    'De': 'first',\n",
    "    'Cuerpo': 'first',\n",
    "    'Categoria': 'first'\n",
    "}).reset_index()\n",
    "\n",
    "# Concatenar las filas agrupadas con las filas donde 'CodigoTarea' es nulo\n",
    "test_df_null = test_df[test_df['CodigoTarea'].isnull()]\n",
    "test_df = pd.concat([test_df_grouped, test_df_null], ignore_index=True)"
   ]
  },
  {
   "cell_type": "markdown",
   "id": "ac571127-c35e-41e7-933c-e97ef17cd643",
   "metadata": {},
   "source": [
    "Una vez realizados estos agrupamientos ya podremos crear de nuevo nuestros gráficos. Además vamos a eliminar el SPAM, ya que los datos que le vamos a pasar a nuestro modelo no llevarán el SPAM si no que serán ya correos que no son SPAM. "
   ]
  },
  {
   "cell_type": "code",
   "execution_count": 9,
   "id": "331c8b4c-b1ac-42ea-b637-94b980b3b959",
   "metadata": {},
   "outputs": [
    {
     "data": {
      "image/png": "[encoded data removed]",
      "text/plain": [
       "<Figure size 1000x500 with 2 Axes>"
      ]
     },
     "metadata": {},
     "output_type": "display_data"
    }
   ],
   "source": [
    "import seaborn as sns\n",
    "import matplotlib.pyplot as plt\n",
    "\n",
    "# Filtrar las filas donde la categoría no es 'SPAM'\n",
    "train_df_filtered = train_df[train_df['Categoria'] != 'SPAM']\n",
    "test_df_filtered = test_df[test_df['Categoria'] != 'SPAM']\n",
    "\n",
    "fig, ax = plt.subplots(1, 2, sharex=True, figsize=(10, 5))\n",
    "\n",
    "sns.countplot(ax=ax[0], x=train_df_filtered['Categoria'], hue=train_df_filtered['Categoria'], palette=\"tab10\")\n",
    "ax[0].set_title(\"2023\")\n",
    "ax[0].tick_params(axis='x', rotation=90)\n",
    "\n",
    "sns.countplot(ax=ax[1], x=test_df_filtered['Categoria'], hue=test_df_filtered['Categoria'], palette=\"tab10\")\n",
    "ax[1].set_title(\"2024\")\n",
    "ax[1].tick_params(axis='x', rotation=90)\n",
    "\n",
    "plt.tight_layout()\n",
    "plt.show()"
   ]
  },
  {
   "cell_type": "markdown",
   "id": "6c2fa9f2-2469-42c0-9381-b1de6648ded6",
   "metadata": {},
   "source": [
    "Ahora veremos los gráficos para los datos que son SPAM o no SPAM"
   ]
  },
  {
   "cell_type": "code",
   "execution_count": 10,
   "id": "db2981e0-82e0-467b-843b-8b6e9d8afd4b",
   "metadata": {},
   "outputs": [
    {
     "data": {
      "image/png": "[encoded data removed]",
      "text/plain": [
       "<Figure size 1000x500 with 2 Axes>"
      ]
     },
     "metadata": {},
     "output_type": "display_data"
    }
   ],
   "source": [
    "import seaborn as sns\n",
    "import matplotlib.pyplot as plt\n",
    "\n",
    "# Filtrar las filas donde la categoría no es 'SPAM'\n",
    "train_df_no_spam = train_df[train_df['Categoria'] != 'SPAM']\n",
    "test_df_no_spam = test_df[test_df['Categoria'] != 'SPAM']\n",
    "\n",
    "fig, ax = plt.subplots(1, 2, sharex=True, figsize=(10, 5))\n",
    "\n",
    "sns.countplot(ax=ax[0], x=train_df_filtered['Categoria'], hue=train_df_filtered['Categoria'], palette=\"tab10\")\n",
    "ax[0].set_title(\"2023\")\n",
    "ax[0].tick_params(axis='x', rotation=90)\n",
    "\n",
    "sns.countplot(ax=ax[1], x=test_df_filtered['Categoria'], hue=test_df_filtered['Categoria'], palette=\"tab10\")\n",
    "ax[1].set_title(\"2024\")\n",
    "ax[1].tick_params(axis='x', rotation=90)\n",
    "\n",
    "plt.tight_layout()\n",
    "plt.show()"
   ]
  },
  {
   "cell_type": "code",
   "execution_count": null,
   "id": "874d66b4-da25-4f2a-81b5-7819c961201b",
   "metadata": {},
   "outputs": [],
   "source": []
  }
 ],
 "metadata": {
  "kernelspec": {
   "display_name": "Automatization Classification",
   "language": "python",
   "name": ".venv"
  },
  "language_info": {
   "codemirror_mode": {
    "name": "ipython",
    "version": 3
   },
   "file_extension": ".py",
   "mimetype": "text/x-python",
   "name": "python",
   "nbconvert_exporter": "python",
   "pygments_lexer": "ipython3",
   "version": "3.12.3"
  }
 },
 "nbformat": 4,
 "nbformat_minor": 5
}
