{
 "cells": [
  {
   "cell_type": "code",
   "execution_count": 1,
   "metadata": {},
   "outputs": [],
   "source": [
    "import pandas as pd\n",
    "from sklearn.preprocessing import LabelEncoder\n",
    "from sklearn.feature_extraction.text import TfidfVectorizer\n",
    "import openpyxl"
   ]
  },
  {
   "cell_type": "code",
   "execution_count": 3,
   "metadata": {},
   "outputs": [
    {
     "data": {
      "text/html": [
       "<div>\n",
       "<style scoped>\n",
       "    .dataframe tbody tr th:only-of-type {\n",
       "        vertical-align: middle;\n",
       "    }\n",
       "\n",
       "    .dataframe tbody tr th {\n",
       "        vertical-align: top;\n",
       "    }\n",
       "\n",
       "    .dataframe thead th {\n",
       "        text-align: right;\n",
       "    }\n",
       "</style>\n",
       "<table border=\"1\" class=\"dataframe\">\n",
       "  <thead>\n",
       "    <tr style=\"text-align: right;\">\n",
       "      <th></th>\n",
       "      <th>CodigoTarea</th>\n",
       "      <th>IDEmail</th>\n",
       "      <th>Cuerpo</th>\n",
       "      <th>FechaCreacion</th>\n",
       "      <th>Categoria</th>\n",
       "      <th>Idioma</th>\n",
       "    </tr>\n",
       "  </thead>\n",
       "  <tbody>\n",
       "    <tr>\n",
       "      <th>0</th>\n",
       "      <td>1094561</td>\n",
       "      <td>1379091</td>\n",
       "      <td>Buenos días Manuel,_x000d_\\n_x000d_\\nPasarme  ...</td>\n",
       "      <td>2023-06-02</td>\n",
       "      <td>OMOD</td>\n",
       "      <td>E</td>\n",
       "    </tr>\n",
       "    <tr>\n",
       "      <th>1</th>\n",
       "      <td>1194837</td>\n",
       "      <td>1391986</td>\n",
       "      <td>Hola,_x000d_\\n_x000d_\\n¿Espero que estés bien?...</td>\n",
       "      <td>2024-02-16</td>\n",
       "      <td>I</td>\n",
       "      <td>E</td>\n",
       "    </tr>\n",
       "    <tr>\n",
       "      <th>2</th>\n",
       "      <td>1225091</td>\n",
       "      <td>1391986</td>\n",
       "      <td>Hola,_x000d_\\n_x000d_\\n¿Espero que estés bien?...</td>\n",
       "      <td>2024-04-25</td>\n",
       "      <td>I</td>\n",
       "      <td>E</td>\n",
       "    </tr>\n",
       "    <tr>\n",
       "      <th>3</th>\n",
       "      <td>1034918</td>\n",
       "      <td>1464101</td>\n",
       "      <td>Buenos días,_x000d_\\n_x000d_\\n _x000d_\\n_x000d...</td>\n",
       "      <td>2023-01-01</td>\n",
       "      <td>OMOD</td>\n",
       "      <td>E</td>\n",
       "    </tr>\n",
       "    <tr>\n",
       "      <th>4</th>\n",
       "      <td>1034932</td>\n",
       "      <td>1464115</td>\n",
       "      <td>Adjunto les enviamos PEDIDOS (PDF)_x000d_\\n_x0...</td>\n",
       "      <td>2023-01-02</td>\n",
       "      <td>PMOD</td>\n",
       "      <td>E</td>\n",
       "    </tr>\n",
       "  </tbody>\n",
       "</table>\n",
       "</div>"
      ],
      "text/plain": [
       "   CodigoTarea  IDEmail                                             Cuerpo  \\\n",
       "0      1094561  1379091  Buenos días Manuel,_x000d_\\n_x000d_\\nPasarme  ...   \n",
       "1      1194837  1391986  Hola,_x000d_\\n_x000d_\\n¿Espero que estés bien?...   \n",
       "2      1225091  1391986  Hola,_x000d_\\n_x000d_\\n¿Espero que estés bien?...   \n",
       "3      1034918  1464101  Buenos días,_x000d_\\n_x000d_\\n _x000d_\\n_x000d...   \n",
       "4      1034932  1464115  Adjunto les enviamos PEDIDOS (PDF)_x000d_\\n_x0...   \n",
       "\n",
       "  FechaCreacion Categoria Idioma  \n",
       "0    2023-06-02      OMOD      E  \n",
       "1    2024-02-16         I      E  \n",
       "2    2024-04-25         I      E  \n",
       "3    2023-01-01      OMOD      E  \n",
       "4    2023-01-02      PMOD      E  "
      ]
     },
     "execution_count": 3,
     "metadata": {},
     "output_type": "execute_result"
    }
   ],
   "source": [
    "path = '../data/Consulta_JMA.xlsx'\n",
    "\n",
    "df = pd.read_excel(path)\n",
    "df.head()"
   ]
  },
  {
   "cell_type": "code",
   "execution_count": 4,
   "metadata": {},
   "outputs": [],
   "source": [
    "df['Categoria'] = df['Categoria'].fillna(\"sin categoría\")\n",
    "df['Cuerpo'] = df['Cuerpo'].fillna(\"sin cuerpo\")"
   ]
  },
  {
   "cell_type": "code",
   "execution_count": 5,
   "metadata": {},
   "outputs": [
    {
     "name": "stdout",
     "output_type": "stream",
     "text": [
      "<class 'pandas.core.frame.DataFrame'>\n",
      "RangeIndex: 67213 entries, 0 to 67212\n",
      "Data columns (total 6 columns):\n",
      " #   Column         Non-Null Count  Dtype         \n",
      "---  ------         --------------  -----         \n",
      " 0   CodigoTarea    67213 non-null  int64         \n",
      " 1   IDEmail        67213 non-null  int64         \n",
      " 2   Cuerpo         67213 non-null  object        \n",
      " 3   FechaCreacion  67213 non-null  datetime64[ns]\n",
      " 4   Categoria      67213 non-null  object        \n",
      " 5   Idioma         67213 non-null  object        \n",
      "dtypes: datetime64[ns](1), int64(2), object(3)\n",
      "memory usage: 3.1+ MB\n"
     ]
    }
   ],
   "source": [
    "df.info()"
   ]
  },
  {
   "cell_type": "code",
   "execution_count": 10,
   "metadata": {},
   "outputs": [
    {
     "data": {
      "text/html": [
       "<div>\n",
       "<style scoped>\n",
       "    .dataframe tbody tr th:only-of-type {\n",
       "        vertical-align: middle;\n",
       "    }\n",
       "\n",
       "    .dataframe tbody tr th {\n",
       "        vertical-align: top;\n",
       "    }\n",
       "\n",
       "    .dataframe thead th {\n",
       "        text-align: right;\n",
       "    }\n",
       "</style>\n",
       "<table border=\"1\" class=\"dataframe\">\n",
       "  <thead>\n",
       "    <tr style=\"text-align: right;\">\n",
       "      <th></th>\n",
       "      <th>CodigoTarea</th>\n",
       "      <th>IDEmail</th>\n",
       "      <th>Cuerpo</th>\n",
       "      <th>FechaCreacion</th>\n",
       "      <th>Categoria</th>\n",
       "      <th>Idioma</th>\n",
       "    </tr>\n",
       "  </thead>\n",
       "  <tbody>\n",
       "    <tr>\n",
       "      <th>0</th>\n",
       "      <td>1034918</td>\n",
       "      <td>1464101</td>\n",
       "      <td>Buenos días,_x000d_\\n_x000d_\\n _x000d_\\n_x000d...</td>\n",
       "      <td>2023-01-01</td>\n",
       "      <td>OMOD</td>\n",
       "      <td>E</td>\n",
       "    </tr>\n",
       "    <tr>\n",
       "      <th>1</th>\n",
       "      <td>1034932</td>\n",
       "      <td>1464115</td>\n",
       "      <td>Adjunto les enviamos PEDIDOS (PDF)_x000d_\\n_x0...</td>\n",
       "      <td>2023-01-02</td>\n",
       "      <td>PMOD</td>\n",
       "      <td>E</td>\n",
       "    </tr>\n",
       "    <tr>\n",
       "      <th>2</th>\n",
       "      <td>1034934</td>\n",
       "      <td>1464117</td>\n",
       "      <td>\\t_x000d_\\n\\t_x000d_\\n &lt;http://imem.com/wp-con...</td>\n",
       "      <td>2023-01-02</td>\n",
       "      <td>OMOD</td>\n",
       "      <td>E</td>\n",
       "    </tr>\n",
       "    <tr>\n",
       "      <th>3</th>\n",
       "      <td>1034938</td>\n",
       "      <td>1464121</td>\n",
       "      <td>Proveedor: HIDRAL SA Dirección: carmen.diez@hi...</td>\n",
       "      <td>2023-01-02</td>\n",
       "      <td>PMOD</td>\n",
       "      <td>E</td>\n",
       "    </tr>\n",
       "    <tr>\n",
       "      <th>4</th>\n",
       "      <td>1034947</td>\n",
       "      <td>1464130</td>\n",
       "      <td>Bom dia _x000d_\\n_x000d_\\n _x000d_\\n_x000d_\\nN...</td>\n",
       "      <td>2023-01-02</td>\n",
       "      <td>OMOD</td>\n",
       "      <td>E</td>\n",
       "    </tr>\n",
       "  </tbody>\n",
       "</table>\n",
       "</div>"
      ],
      "text/plain": [
       "   CodigoTarea  IDEmail                                             Cuerpo  \\\n",
       "0      1034918  1464101  Buenos días,_x000d_\\n_x000d_\\n _x000d_\\n_x000d...   \n",
       "1      1034932  1464115  Adjunto les enviamos PEDIDOS (PDF)_x000d_\\n_x0...   \n",
       "2      1034934  1464117  \\t_x000d_\\n\\t_x000d_\\n <http://imem.com/wp-con...   \n",
       "3      1034938  1464121  Proveedor: HIDRAL SA Dirección: carmen.diez@hi...   \n",
       "4      1034947  1464130  Bom dia _x000d_\\n_x000d_\\n _x000d_\\n_x000d_\\nN...   \n",
       "\n",
       "  FechaCreacion Categoria Idioma  \n",
       "0    2023-01-01      OMOD      E  \n",
       "1    2023-01-02      PMOD      E  \n",
       "2    2023-01-02      OMOD      E  \n",
       "3    2023-01-02      PMOD      E  \n",
       "4    2023-01-02      OMOD      E  "
      ]
     },
     "execution_count": 10,
     "metadata": {},
     "output_type": "execute_result"
    }
   ],
   "source": [
    "df_grouped = df.groupby(by='CodigoTarea').agg({\n",
    "    'IDEmail': 'first',\n",
    "    'Cuerpo': 'first',\n",
    "    'FechaCreacion': 'first',\n",
    "    'Categoria': 'first',\n",
    "    'Idioma': 'first'\n",
    "}).reset_index()\n",
    "df_grouped.head()"
   ]
  },
  {
   "cell_type": "code",
   "execution_count": 12,
   "metadata": {},
   "outputs": [
    {
     "data": {
      "text/plain": [
       "array(['OMOD', 'PMOD', 'PREP', 'I', 'OREP', 'SAT', 'SEG'], dtype=object)"
      ]
     },
     "execution_count": 12,
     "metadata": {},
     "output_type": "execute_result"
    }
   ],
   "source": [
    "df_grouped['Categoria'].unique()"
   ]
  },
  {
   "cell_type": "code",
   "execution_count": 13,
   "metadata": {},
   "outputs": [
    {
     "data": {
      "text/plain": [
       "Categoria\n",
       "SEG     4306\n",
       "OMOD    4021\n",
       "OREP    3689\n",
       "PREP    3499\n",
       "PMOD    2999\n",
       "I       1486\n",
       "SAT     1386\n",
       "Name: count, dtype: int64"
      ]
     },
     "execution_count": 13,
     "metadata": {},
     "output_type": "execute_result"
    }
   ],
   "source": [
    "df_grouped['Categoria'].value_counts()"
   ]
  },
  {
   "cell_type": "code",
   "execution_count": 14,
   "metadata": {},
   "outputs": [
    {
     "data": {
      "text/plain": [
       "(21386, 6)"
      ]
     },
     "execution_count": 14,
     "metadata": {},
     "output_type": "execute_result"
    }
   ],
   "source": [
    "df_grouped.shape"
   ]
  },
  {
   "cell_type": "code",
   "execution_count": 17,
   "metadata": {},
   "outputs": [
    {
     "data": {
      "text/plain": [
       "Timestamp('2024-10-18 00:00:00')"
      ]
     },
     "execution_count": 17,
     "metadata": {},
     "output_type": "execute_result"
    }
   ],
   "source": [
    "df_grouped['FechaCreacion'].max()"
   ]
  },
  {
   "cell_type": "code",
   "execution_count": 18,
   "metadata": {},
   "outputs": [
    {
     "data": {
      "text/plain": [
       "Idioma\n",
       "E    21386\n",
       "Name: count, dtype: int64"
      ]
     },
     "execution_count": 18,
     "metadata": {},
     "output_type": "execute_result"
    }
   ],
   "source": [
    "df_grouped['Idioma'].value_counts()"
   ]
  },
  {
   "cell_type": "code",
   "execution_count": 20,
   "metadata": {},
   "outputs": [
    {
     "data": {
      "text/plain": [
       "'Buenas tardes, _x000d_\\n_x000d_\\n _x000d_\\n_x000d_\\nSolicitamos precio y plazo del siguiente material:_x000d_\\n_x000d_\\n _x000d_\\n_x000d_\\nmanómetro adjunto en la foto. Hidral_x000d_\\n_x000d_\\n _x000d_\\n_x000d_\\nSaludos cordiales._x000d_\\n_x000d_\\n _x000d_\\n_x000d_\\nAtentamente, _x000d_\\n_x000d_\\n _x000d_\\n_x000d_\\nJuan Carlos Pérez Piñero_x000d_\\nSpare Parts Department / Field Engineering & Processes_x000d_\\n_x000d_\\n _x000d_\\n T:+34 648 658 044, 26726, tke10008000@tkelevator.com <mailto:tke10008000@tkelevator.com> _x000d_\\n_x000d_\\nTK Elevator, S.L.U. Avenida Marcelino Camacho nº 9 28830 San Fernando de Henares, España, www.tkelevator.com <http://www.tkelevator.com/> _x000d_\\n_x000d_\\n _x000d_\\n_x000d_\\n <https://www.tkelevator.com/es-es/sostenibilidad/sostenibilidad/> _x000d_\\n_x000d_\\n _x000d_\\n_x000d_\\nAviso de confidencialidad_x000d_\\n_x000d_\\nEste mensaje y los documentos adjuntos son confidenciales y se dirigen exclusivamente a la dirección mencionada anteriormente. Si recibió este correo electrónico accidentalmente, elimínelo de su sistema y no lo envíe a terceros. _x000d_\\nSu dirección de correo electrónico junto con la información que nos facilite y nos haya facilitado, son tratados por TK Elevadores España S.L.U., en calidad de responsable del tratamiento, con la finalidad de gestionar y mantener los contactos y relaciones que se produzcan como consecuencia de la relación que mantiene con nosotros. La base jurídica que legitima este tratamiento, será su consentimiento, el interés legítimo o la necesidad para gestionar una relación contractual o similar._x000d_\\nEl plazo de conservación de sus datos vendrá determinado por la relación que mantiene con nosotros. Para más información al respecto, o para ejercer sus derechos de acceso, rectificación, cancelación/supresión, oposición, limitación o portabilidad, dirija una comunicación por escrito a TK Elevadores España S.L.U. Calle Cifuentes s/n, 28021, Madrid. Spain, o por correo electrónico a lopd.tkees@tkelevator.com <mailto:lopd.tkees@tkelevator.com>  acompañándose con fotocopia de DNI o documento identificativo equivalente._x000d_\\n_x000d_\\n _x000d_\\n'"
      ]
     },
     "execution_count": 20,
     "metadata": {},
     "output_type": "execute_result"
    }
   ],
   "source": [
    "df_grouped['Cuerpo'].iloc[3409]"
   ]
  },
  {
   "cell_type": "code",
   "execution_count": null,
   "metadata": {},
   "outputs": [],
   "source": []
  }
 ],
 "metadata": {
  "kernelspec": {
   "display_name": "Automatization Classification",
   "language": "python",
   "name": ".venv"
  },
  "language_info": {
   "codemirror_mode": {
    "name": "ipython",
    "version": 3
   },
   "file_extension": ".py",
   "mimetype": "text/x-python",
   "name": "python",
   "nbconvert_exporter": "python",
   "pygments_lexer": "ipython3",
   "version": "3.12.3"
  }
 },
 "nbformat": 4,
 "nbformat_minor": 4
}
