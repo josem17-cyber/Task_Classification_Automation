{
 "cells": [
  {
   "cell_type": "code",
   "execution_count": 1,
   "metadata": {},
   "outputs": [],
   "source": [
    "import pandas as pd\n",
    "from sklearn.preprocessing import LabelEncoder\n",
    "from sklearn.feature_extraction.text import TfidfVectorizer\n",
    "import openpyxl"
   ]
  },
  {
   "cell_type": "code",
   "execution_count": 2,
   "metadata": {},
   "outputs": [
    {
     "data": {
      "text/html": [
       "<div>\n",
       "<style scoped>\n",
       "    .dataframe tbody tr th:only-of-type {\n",
       "        vertical-align: middle;\n",
       "    }\n",
       "\n",
       "    .dataframe tbody tr th {\n",
       "        vertical-align: top;\n",
       "    }\n",
       "\n",
       "    .dataframe thead th {\n",
       "        text-align: right;\n",
       "    }\n",
       "</style>\n",
       "<table border=\"1\" class=\"dataframe\">\n",
       "  <thead>\n",
       "    <tr style=\"text-align: right;\">\n",
       "      <th></th>\n",
       "      <th>CodigoTarea</th>\n",
       "      <th>IDEmail</th>\n",
       "      <th>Cuerpo</th>\n",
       "      <th>FechaCreacion</th>\n",
       "      <th>Categoria</th>\n",
       "      <th>Idioma</th>\n",
       "    </tr>\n",
       "  </thead>\n",
       "  <tbody>\n",
       "    <tr>\n",
       "      <th>0</th>\n",
       "      <td>1094561</td>\n",
       "      <td>1379091</td>\n",
       "      <td>Buenos días Manuel,_x000d_\\n_x000d_\\nPasarme  ...</td>\n",
       "      <td>2023-06-02</td>\n",
       "      <td>OMOD</td>\n",
       "      <td>E</td>\n",
       "    </tr>\n",
       "    <tr>\n",
       "      <th>1</th>\n",
       "      <td>1194837</td>\n",
       "      <td>1391986</td>\n",
       "      <td>Hola,_x000d_\\n_x000d_\\n¿Espero que estés bien?...</td>\n",
       "      <td>2024-02-16</td>\n",
       "      <td>I</td>\n",
       "      <td>E</td>\n",
       "    </tr>\n",
       "    <tr>\n",
       "      <th>2</th>\n",
       "      <td>1225091</td>\n",
       "      <td>1391986</td>\n",
       "      <td>Hola,_x000d_\\n_x000d_\\n¿Espero que estés bien?...</td>\n",
       "      <td>2024-04-25</td>\n",
       "      <td>I</td>\n",
       "      <td>E</td>\n",
       "    </tr>\n",
       "    <tr>\n",
       "      <th>3</th>\n",
       "      <td>1034918</td>\n",
       "      <td>1464101</td>\n",
       "      <td>Buenos días,_x000d_\\n_x000d_\\n _x000d_\\n_x000d...</td>\n",
       "      <td>2023-01-01</td>\n",
       "      <td>OMOD</td>\n",
       "      <td>E</td>\n",
       "    </tr>\n",
       "    <tr>\n",
       "      <th>4</th>\n",
       "      <td>1034932</td>\n",
       "      <td>1464115</td>\n",
       "      <td>Adjunto les enviamos PEDIDOS (PDF)_x000d_\\n_x0...</td>\n",
       "      <td>2023-01-02</td>\n",
       "      <td>PMOD</td>\n",
       "      <td>E</td>\n",
       "    </tr>\n",
       "  </tbody>\n",
       "</table>\n",
       "</div>"
      ],
      "text/plain": [
       "   CodigoTarea  IDEmail                                             Cuerpo  \\\n",
       "0      1094561  1379091  Buenos días Manuel,_x000d_\\n_x000d_\\nPasarme  ...   \n",
       "1      1194837  1391986  Hola,_x000d_\\n_x000d_\\n¿Espero que estés bien?...   \n",
       "2      1225091  1391986  Hola,_x000d_\\n_x000d_\\n¿Espero que estés bien?...   \n",
       "3      1034918  1464101  Buenos días,_x000d_\\n_x000d_\\n _x000d_\\n_x000d...   \n",
       "4      1034932  1464115  Adjunto les enviamos PEDIDOS (PDF)_x000d_\\n_x0...   \n",
       "\n",
       "  FechaCreacion Categoria Idioma  \n",
       "0    2023-06-02      OMOD      E  \n",
       "1    2024-02-16         I      E  \n",
       "2    2024-04-25         I      E  \n",
       "3    2023-01-01      OMOD      E  \n",
       "4    2023-01-02      PMOD      E  "
      ]
     },
     "execution_count": 2,
     "metadata": {},
     "output_type": "execute_result"
    }
   ],
   "source": [
    "path = '../data/Consulta_JMA.xlsx'\n",
    "\n",
    "df = pd.read_excel(path)\n",
    "df.head()"
   ]
  },
  {
   "cell_type": "code",
   "execution_count": 3,
   "metadata": {},
   "outputs": [],
   "source": [
    "df['Categoria'] = df['Categoria'].fillna(\"sin categoría\")\n",
    "df['Cuerpo'] = df['Cuerpo'].fillna(\"sin cuerpo\")"
   ]
  },
  {
   "cell_type": "code",
   "execution_count": 4,
   "metadata": {},
   "outputs": [
    {
     "name": "stdout",
     "output_type": "stream",
     "text": [
      "<class 'pandas.core.frame.DataFrame'>\n",
      "RangeIndex: 67213 entries, 0 to 67212\n",
      "Data columns (total 6 columns):\n",
      " #   Column         Non-Null Count  Dtype         \n",
      "---  ------         --------------  -----         \n",
      " 0   CodigoTarea    67213 non-null  int64         \n",
      " 1   IDEmail        67213 non-null  int64         \n",
      " 2   Cuerpo         67213 non-null  object        \n",
      " 3   FechaCreacion  67213 non-null  datetime64[ns]\n",
      " 4   Categoria      67213 non-null  object        \n",
      " 5   Idioma         67213 non-null  object        \n",
      "dtypes: datetime64[ns](1), int64(2), object(3)\n",
      "memory usage: 3.1+ MB\n"
     ]
    }
   ],
   "source": [
    "df.info()"
   ]
  },
  {
   "cell_type": "code",
   "execution_count": 5,
   "metadata": {},
   "outputs": [
    {
     "data": {
      "text/html": [
       "<div>\n",
       "<style scoped>\n",
       "    .dataframe tbody tr th:only-of-type {\n",
       "        vertical-align: middle;\n",
       "    }\n",
       "\n",
       "    .dataframe tbody tr th {\n",
       "        vertical-align: top;\n",
       "    }\n",
       "\n",
       "    .dataframe thead th {\n",
       "        text-align: right;\n",
       "    }\n",
       "</style>\n",
       "<table border=\"1\" class=\"dataframe\">\n",
       "  <thead>\n",
       "    <tr style=\"text-align: right;\">\n",
       "      <th></th>\n",
       "      <th>CodigoTarea</th>\n",
       "      <th>IDEmail</th>\n",
       "      <th>Cuerpo</th>\n",
       "      <th>FechaCreacion</th>\n",
       "      <th>Categoria</th>\n",
       "      <th>Idioma</th>\n",
       "    </tr>\n",
       "  </thead>\n",
       "  <tbody>\n",
       "    <tr>\n",
       "      <th>0</th>\n",
       "      <td>1034918</td>\n",
       "      <td>1464101</td>\n",
       "      <td>Buenos días,_x000d_\\n_x000d_\\n _x000d_\\n_x000d...</td>\n",
       "      <td>2023-01-01</td>\n",
       "      <td>OMOD</td>\n",
       "      <td>E</td>\n",
       "    </tr>\n",
       "    <tr>\n",
       "      <th>1</th>\n",
       "      <td>1034932</td>\n",
       "      <td>1464115</td>\n",
       "      <td>Adjunto les enviamos PEDIDOS (PDF)_x000d_\\n_x0...</td>\n",
       "      <td>2023-01-02</td>\n",
       "      <td>PMOD</td>\n",
       "      <td>E</td>\n",
       "    </tr>\n",
       "    <tr>\n",
       "      <th>2</th>\n",
       "      <td>1034934</td>\n",
       "      <td>1464117</td>\n",
       "      <td>\\t_x000d_\\n\\t_x000d_\\n &lt;http://imem.com/wp-con...</td>\n",
       "      <td>2023-01-02</td>\n",
       "      <td>OMOD</td>\n",
       "      <td>E</td>\n",
       "    </tr>\n",
       "    <tr>\n",
       "      <th>3</th>\n",
       "      <td>1034938</td>\n",
       "      <td>1464121</td>\n",
       "      <td>Proveedor: HIDRAL SA Dirección: carmen.diez@hi...</td>\n",
       "      <td>2023-01-02</td>\n",
       "      <td>PMOD</td>\n",
       "      <td>E</td>\n",
       "    </tr>\n",
       "    <tr>\n",
       "      <th>4</th>\n",
       "      <td>1034947</td>\n",
       "      <td>1464130</td>\n",
       "      <td>Bom dia _x000d_\\n_x000d_\\n _x000d_\\n_x000d_\\nN...</td>\n",
       "      <td>2023-01-02</td>\n",
       "      <td>OMOD</td>\n",
       "      <td>E</td>\n",
       "    </tr>\n",
       "  </tbody>\n",
       "</table>\n",
       "</div>"
      ],
      "text/plain": [
       "   CodigoTarea  IDEmail                                             Cuerpo  \\\n",
       "0      1034918  1464101  Buenos días,_x000d_\\n_x000d_\\n _x000d_\\n_x000d...   \n",
       "1      1034932  1464115  Adjunto les enviamos PEDIDOS (PDF)_x000d_\\n_x0...   \n",
       "2      1034934  1464117  \\t_x000d_\\n\\t_x000d_\\n <http://imem.com/wp-con...   \n",
       "3      1034938  1464121  Proveedor: HIDRAL SA Dirección: carmen.diez@hi...   \n",
       "4      1034947  1464130  Bom dia _x000d_\\n_x000d_\\n _x000d_\\n_x000d_\\nN...   \n",
       "\n",
       "  FechaCreacion Categoria Idioma  \n",
       "0    2023-01-01      OMOD      E  \n",
       "1    2023-01-02      PMOD      E  \n",
       "2    2023-01-02      OMOD      E  \n",
       "3    2023-01-02      PMOD      E  \n",
       "4    2023-01-02      OMOD      E  "
      ]
     },
     "execution_count": 5,
     "metadata": {},
     "output_type": "execute_result"
    }
   ],
   "source": [
    "df_grouped = df.groupby(by='CodigoTarea').agg({\n",
    "    'IDEmail': 'first',\n",
    "    'Cuerpo': 'first',\n",
    "    'FechaCreacion': 'first',\n",
    "    'Categoria': 'first',\n",
    "    'Idioma': 'first'\n",
    "}).reset_index()\n",
    "df_grouped.head()"
   ]
  },
  {
   "cell_type": "code",
   "execution_count": 6,
   "metadata": {},
   "outputs": [
    {
     "data": {
      "text/html": [
       "<div>\n",
       "<style scoped>\n",
       "    .dataframe tbody tr th:only-of-type {\n",
       "        vertical-align: middle;\n",
       "    }\n",
       "\n",
       "    .dataframe tbody tr th {\n",
       "        vertical-align: top;\n",
       "    }\n",
       "\n",
       "    .dataframe thead th {\n",
       "        text-align: right;\n",
       "    }\n",
       "</style>\n",
       "<table border=\"1\" class=\"dataframe\">\n",
       "  <thead>\n",
       "    <tr style=\"text-align: right;\">\n",
       "      <th></th>\n",
       "      <th>CodigoTarea</th>\n",
       "      <th>IDEmail</th>\n",
       "      <th>Cuerpo</th>\n",
       "      <th>FechaCreacion</th>\n",
       "      <th>Categoria</th>\n",
       "      <th>Idioma</th>\n",
       "    </tr>\n",
       "  </thead>\n",
       "  <tbody>\n",
       "    <tr>\n",
       "      <th>0</th>\n",
       "      <td>1034918</td>\n",
       "      <td>1464101</td>\n",
       "      <td>Buenos días,_x000d_\\n_x000d_\\n _x000d_\\n_x000d...</td>\n",
       "      <td>2023-01-01</td>\n",
       "      <td>OMOD</td>\n",
       "      <td>E</td>\n",
       "    </tr>\n",
       "  </tbody>\n",
       "</table>\n",
       "</div>"
      ],
      "text/plain": [
       "   CodigoTarea  IDEmail                                             Cuerpo  \\\n",
       "0      1034918  1464101  Buenos días,_x000d_\\n_x000d_\\n _x000d_\\n_x000d...   \n",
       "\n",
       "  FechaCreacion Categoria Idioma  \n",
       "0    2023-01-01      OMOD      E  "
      ]
     },
     "execution_count": 6,
     "metadata": {},
     "output_type": "execute_result"
    }
   ],
   "source": [
    "df_grouped[df_grouped['CodigoTarea'] == 1034918]"
   ]
  },
  {
   "cell_type": "code",
   "execution_count": 7,
   "metadata": {},
   "outputs": [
    {
     "data": {
      "text/plain": [
       "array(['OMOD', 'PMOD', 'PREP', 'I', 'OREP', 'SAT', 'SEG'], dtype=object)"
      ]
     },
     "execution_count": 7,
     "metadata": {},
     "output_type": "execute_result"
    }
   ],
   "source": [
    "df_grouped['Categoria'].unique()"
   ]
  },
  {
   "cell_type": "code",
   "execution_count": 8,
   "metadata": {},
   "outputs": [
    {
     "data": {
      "text/plain": [
       "Categoria\n",
       "SEG     4306\n",
       "OMOD    4021\n",
       "OREP    3689\n",
       "PREP    3499\n",
       "PMOD    2999\n",
       "I       1486\n",
       "SAT     1386\n",
       "Name: count, dtype: int64"
      ]
     },
     "execution_count": 8,
     "metadata": {},
     "output_type": "execute_result"
    }
   ],
   "source": [
    "df_grouped['Categoria'].value_counts()"
   ]
  },
  {
   "cell_type": "code",
   "execution_count": 9,
   "metadata": {},
   "outputs": [
    {
     "data": {
      "text/plain": [
       "(21386, 6)"
      ]
     },
     "execution_count": 9,
     "metadata": {},
     "output_type": "execute_result"
    }
   ],
   "source": [
    "df_grouped.shape"
   ]
  },
  {
   "cell_type": "code",
   "execution_count": 10,
   "metadata": {},
   "outputs": [
    {
     "data": {
      "text/plain": [
       "Timestamp('2024-10-18 00:00:00')"
      ]
     },
     "execution_count": 10,
     "metadata": {},
     "output_type": "execute_result"
    }
   ],
   "source": [
    "df_grouped['FechaCreacion'].max()"
   ]
  },
  {
   "cell_type": "code",
   "execution_count": 11,
   "metadata": {},
   "outputs": [
    {
     "data": {
      "text/plain": [
       "Idioma\n",
       "E    21386\n",
       "Name: count, dtype: int64"
      ]
     },
     "execution_count": 11,
     "metadata": {},
     "output_type": "execute_result"
    }
   ],
   "source": [
    "df_grouped['Idioma'].value_counts()"
   ]
  },
  {
   "cell_type": "code",
   "execution_count": 12,
   "metadata": {},
   "outputs": [],
   "source": [
    "cleaning_data = df_grouped['Cuerpo'].iloc[3409]"
   ]
  },
  {
   "cell_type": "code",
   "execution_count": 13,
   "metadata": {},
   "outputs": [
    {
     "data": {
      "text/plain": [
       "'buenas tardes x000d\\nx000d\\n x000d\\nx000d\\nsolicitamos precio y plazo del siguiente materialx000d\\nx000d\\n x000d\\nx000d\\nmanómetro adjunto en la foto hidralx000d\\nx000d\\n x000d\\nx000d\\nsaludos cordialesx000d\\nx000d\\n x000d\\nx000d\\natentamente x000d\\nx000d\\n x000d\\nx000d\\njuan carlos pérez piñerox000d\\nspare parts department  field engineering  processesx000d\\nx000d\\n x000d\\n t34 648 658 044 26726 tke10008000tkelevatorcom mailtotke10008000tkelevatorcom x000d\\nx000d\\ntk elevator slu avenida marcelino camacho nº 9 28830 san fernando de henares españa wwwtkelevatorcom httpwwwtkelevatorcom x000d\\nx000d\\n x000d\\nx000d\\n httpswwwtkelevatorcomesessostenibilidadsostenibilidad x000d\\nx000d\\n x000d\\nx000d\\naviso de confidencialidadx000d\\nx000d\\neste mensaje y los documentos adjuntos son confidenciales y se dirigen exclusivamente a la dirección mencionada anteriormente si recibió este correo electrónico accidentalmente elimínelo de su sistema y no lo envíe a terceros x000d\\nsu dirección de correo electrónico junto con la información que nos facilite y nos haya facilitado son tratados por tk elevadores españa slu en calidad de responsable del tratamiento con la finalidad de gestionar y mantener los contactos y relaciones que se produzcan como consecuencia de la relación que mantiene con nosotros la base jurídica que legitima este tratamiento será su consentimiento el interés legítimo o la necesidad para gestionar una relación contractual o similarx000d\\nel plazo de conservación de sus datos vendrá determinado por la relación que mantiene con nosotros para más información al respecto o para ejercer sus derechos de acceso rectificación cancelaciónsupresión oposición limitación o portabilidad dirija una comunicación por escrito a tk elevadores españa slu calle cifuentes sn 28021 madrid spain o por correo electrónico a lopdtkeestkelevatorcom mailtolopdtkeestkelevatorcom  acompañándose con fotocopia de dni o documento identificativo equivalentex000d\\nx000d\\n x000d\\n'"
      ]
     },
     "execution_count": 13,
     "metadata": {},
     "output_type": "execute_result"
    }
   ],
   "source": [
    "import string\n",
    "text_clean = \"\".join([i.lower() for i in cleaning_data if i not in string.punctuation])\n",
    "text_clean"
   ]
  },
  {
   "cell_type": "code",
   "execution_count": 28,
   "metadata": {},
   "outputs": [
    {
     "name": "stdout",
     "output_type": "stream",
     "text": [
      "buenas tardes solicitamos precio plazo siguiente materialxd manómetro adjunto foto hidralxd saludos cordialesxd atentamente juan carlos pérez piñeroxd spare parts department field engineering processesxd t tketkelevatorcom mailtotketkelevatorcom tk elevator slu avenida marcelino camacho n san fernando henares españa aviso confidencialidadxd mensaje documentos adjuntos confidenciales dirigen exclusivamente dirección mencionada anteriormente si recibió correo electrónico accidentalmente elimínelo sistema envíe terceros dirección correo electrónico junto información facilite facilitado tratados tk elevadores españa slu calidad responsable tratamiento finalidad gestionar mantener contactos relaciones produzcan consecuencia relación mantiene base jurídica legitima tratamiento consentimiento interés legítimo necesidad gestionar relación contractual similarxd plazo conservación datos vendrá determinado relación mantiene información respecto ejercer derechos acceso rectificación cancelaciónsupresión oposición limitación portabilidad dirija comunicación escrito tk elevadores españa slu calle cifuentes sn madrid spain correo electrónico lopdtkeestkelevatorcom mailtolopdtkeestkelevatorcom acompañándose fotocopia dni documento identificativo equivalentexd\n"
     ]
    },
    {
     "name": "stderr",
     "output_type": "stream",
     "text": [
      "[nltk_data] Downloading package stopwords to /home/jose-\n",
      "[nltk_data]     manuel/nltk_data...\n",
      "[nltk_data]   Package stopwords is already up-to-date!\n"
     ]
    }
   ],
   "source": [
    "import re\n",
    "import nltk\n",
    "from nltk.corpus import stopwords\n",
    "\n",
    "# Asegúrate de descargar las stopwords\n",
    "nltk.download('stopwords')\n",
    "\n",
    "# Función para limpiar el texto\n",
    "def clean_text(text):\n",
    "    # Eliminar caracteres no deseados (como xd)\n",
    "    text = re.sub(r'\\bxd\\b', '', text)\n",
    "    \n",
    "    # Eliminar caracteres no deseados (como x000d)\n",
    "    text = re.sub(r'\\bx000d\\b', '', text)\n",
    "    \n",
    "    # Eliminar URLs y correos electrónicos\n",
    "    text = re.sub(r'http\\S+|www\\S+|https\\S+|mailto:\\S+', '', text)\n",
    "    \n",
    "    # Mantener solo palabras en español (puedes ajustar esto según tus necesidades)\n",
    "    # Convertir a minúsculas\n",
    "    text = text.lower()\n",
    "    # Eliminar caracteres no alfabéticos y espacios extra\n",
    "    text = re.sub(r'[^a-záéíóúñü\\s]', '', text)\n",
    "    \n",
    "    # Dividir el texto en palabras\n",
    "    words = text.split()\n",
    "    \n",
    "    # Filtrar stopwords\n",
    "    spanish_stopwords = set(stopwords.words('spanish'))\n",
    "    filtered_words = [word for word in words if word not in spanish_stopwords]\n",
    "    \n",
    "    return ' '.join(filtered_words)\n",
    "\n",
    "# Ejemplo de uso\n",
    "raw_text = \"\"\"buenas tardes x000d\\nx000d\\n x000d\\nx000d\\nsolicitamos precio y plazo del siguiente materialx000d\\n...\"\"\"\n",
    "cleaned_text = clean_text(text_clean)\n",
    "\n",
    "print(cleaned_text)\n"
   ]
  },
  {
   "cell_type": "code",
   "execution_count": 15,
   "metadata": {},
   "outputs": [
    {
     "data": {
      "text/plain": [
       "'buenas tardes solicitamos precio plazo siguiente materialxd manómetro adjunto foto hidralxd saludos cordialesxd atentamente juan carlos pérez piñeroxd spare parts department field engineering processesxd t tketkelevatorcom mailtotketkelevatorcom tk elevator slu avenida marcelino camacho n san fernando henares españa aviso confidencialidadxd mensaje documentos adjuntos confidenciales dirigen exclusivamente dirección mencionada anteriormente si recibió correo electrónico accidentalmente elimínelo sistema envíe terceros dirección correo electrónico junto información facilite facilitado tratados tk elevadores españa slu calidad responsable tratamiento finalidad gestionar mantener contactos relaciones produzcan consecuencia relación mantiene base jurídica legitima tratamiento consentimiento interés legítimo necesidad gestionar relación contractual similarxd plazo conservación datos vendrá determinado relación mantiene información respecto ejercer derechos acceso rectificación cancelaciónsupresión oposición limitación portabilidad dirija comunicación escrito tk elevadores españa slu calle cifuentes sn madrid spain correo electrónico lopdtkeestkelevatorcom mailtolopdtkeestkelevatorcom acompañándose fotocopia dni documento identificativo equivalentexd'"
      ]
     },
     "execution_count": 15,
     "metadata": {},
     "output_type": "execute_result"
    }
   ],
   "source": [
    "cleaned_text"
   ]
  },
  {
   "cell_type": "code",
   "execution_count": 18,
   "metadata": {
    "scrolled": true
   },
   "outputs": [
    {
     "name": "stderr",
     "output_type": "stream",
     "text": [
      "[nltk_data] Downloading package punkt_tab to /home/jose-\n",
      "[nltk_data]     manuel/nltk_data...\n",
      "[nltk_data]   Unzipping tokenizers/punkt_tab.zip.\n"
     ]
    },
    {
     "data": {
      "text/plain": [
       "['buenas',\n",
       " 'tardes',\n",
       " 'solicitamos',\n",
       " 'precio',\n",
       " 'plazo',\n",
       " 'siguiente',\n",
       " 'materialxd',\n",
       " 'manómetro',\n",
       " 'adjunto',\n",
       " 'foto',\n",
       " 'hidralxd',\n",
       " 'saludos',\n",
       " 'cordialesxd',\n",
       " 'atentamente',\n",
       " 'juan',\n",
       " 'carlos',\n",
       " 'pérez',\n",
       " 'piñeroxd',\n",
       " 'spare',\n",
       " 'parts',\n",
       " 'department',\n",
       " 'field',\n",
       " 'engineering',\n",
       " 'processesxd',\n",
       " 't',\n",
       " 'tketkelevatorcom',\n",
       " 'mailtotketkelevatorcom',\n",
       " 'tk',\n",
       " 'elevator',\n",
       " 'slu',\n",
       " 'avenida',\n",
       " 'marcelino',\n",
       " 'camacho',\n",
       " 'n',\n",
       " 'san',\n",
       " 'fernando',\n",
       " 'henares',\n",
       " 'españa',\n",
       " 'aviso',\n",
       " 'confidencialidadxd',\n",
       " 'mensaje',\n",
       " 'documentos',\n",
       " 'adjuntos',\n",
       " 'confidenciales',\n",
       " 'dirigen',\n",
       " 'exclusivamente',\n",
       " 'dirección',\n",
       " 'mencionada',\n",
       " 'anteriormente',\n",
       " 'si',\n",
       " 'recibió',\n",
       " 'correo',\n",
       " 'electrónico',\n",
       " 'accidentalmente',\n",
       " 'elimínelo',\n",
       " 'sistema',\n",
       " 'envíe',\n",
       " 'terceros',\n",
       " 'dirección',\n",
       " 'correo',\n",
       " 'electrónico',\n",
       " 'junto',\n",
       " 'información',\n",
       " 'facilite',\n",
       " 'facilitado',\n",
       " 'tratados',\n",
       " 'tk',\n",
       " 'elevadores',\n",
       " 'españa',\n",
       " 'slu',\n",
       " 'calidad',\n",
       " 'responsable',\n",
       " 'tratamiento',\n",
       " 'finalidad',\n",
       " 'gestionar',\n",
       " 'mantener',\n",
       " 'contactos',\n",
       " 'relaciones',\n",
       " 'produzcan',\n",
       " 'consecuencia',\n",
       " 'relación',\n",
       " 'mantiene',\n",
       " 'base',\n",
       " 'jurídica',\n",
       " 'legitima',\n",
       " 'tratamiento',\n",
       " 'consentimiento',\n",
       " 'interés',\n",
       " 'legítimo',\n",
       " 'necesidad',\n",
       " 'gestionar',\n",
       " 'relación',\n",
       " 'contractual',\n",
       " 'similarxd',\n",
       " 'plazo',\n",
       " 'conservación',\n",
       " 'datos',\n",
       " 'vendrá',\n",
       " 'determinado',\n",
       " 'relación',\n",
       " 'mantiene',\n",
       " 'información',\n",
       " 'respecto',\n",
       " 'ejercer',\n",
       " 'derechos',\n",
       " 'acceso',\n",
       " 'rectificación',\n",
       " 'cancelaciónsupresión',\n",
       " 'oposición',\n",
       " 'limitación',\n",
       " 'portabilidad',\n",
       " 'dirija',\n",
       " 'comunicación',\n",
       " 'escrito',\n",
       " 'tk',\n",
       " 'elevadores',\n",
       " 'españa',\n",
       " 'slu',\n",
       " 'calle',\n",
       " 'cifuentes',\n",
       " 'sn',\n",
       " 'madrid',\n",
       " 'spain',\n",
       " 'correo',\n",
       " 'electrónico',\n",
       " 'lopdtkeestkelevatorcom',\n",
       " 'mailtolopdtkeestkelevatorcom',\n",
       " 'acompañándose',\n",
       " 'fotocopia',\n",
       " 'dni',\n",
       " 'documento',\n",
       " 'identificativo',\n",
       " 'equivalentexd']"
      ]
     },
     "execution_count": 18,
     "metadata": {},
     "output_type": "execute_result"
    }
   ],
   "source": [
    "import nltk\n",
    "nltk.download('punkt_tab')\n",
    "nltk.tokenize.word_tokenize(cleaned_text)"
   ]
  },
  {
   "cell_type": "code",
   "execution_count": 22,
   "metadata": {},
   "outputs": [],
   "source": [
    "test_1 = df_grouped['Cuerpo'].iloc[948]"
   ]
  },
  {
   "cell_type": "code",
   "execution_count": 29,
   "metadata": {},
   "outputs": [
    {
     "data": {
      "text/plain": [
       "'ech dcl error ipxd xd xd xd cuenta doble columna lateral hora configurar tubos protección cabina enviado equipo estándar recortar tubos montar paneles centrales cada columnaxd xd xd xd lado contrario envío tubos normales obra colocan hueco intermedioxd xd xd xd envíar tubos l mm taponesxd xd xd xd xd xd xd xd xd xd xd xd manuel lópez mayoxd xd xd xd posventaxd after sales xd pi parsi calle n sevilla spainxd tel xd repuestos sparepartshidralcom xd incidencias claimshidralcom xd xd xd xd xd xd'"
      ]
     },
     "execution_count": 29,
     "metadata": {},
     "output_type": "execute_result"
    }
   ],
   "source": [
    "clean_text(test_1)"
   ]
  },
  {
   "cell_type": "code",
   "execution_count": null,
   "metadata": {},
   "outputs": [],
   "source": []
  }
 ],
 "metadata": {
  "kernelspec": {
   "display_name": "Automatization Classification",
   "language": "python",
   "name": ".venv"
  },
  "language_info": {
   "codemirror_mode": {
    "name": "ipython",
    "version": 3
   },
   "file_extension": ".py",
   "mimetype": "text/x-python",
   "name": "python",
   "nbconvert_exporter": "python",
   "pygments_lexer": "ipython3",
   "version": "3.12.3"
  }
 },
 "nbformat": 4,
 "nbformat_minor": 4
}
