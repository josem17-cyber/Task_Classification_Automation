{
 "cells": [
  {
   "cell_type": "code",
   "execution_count": 1,
   "id": "2bb7253a-31e7-48ce-b623-9d946b6ca269",
   "metadata": {},
   "outputs": [],
   "source": [
    "import pandas as pd\n",
    "import re\n",
    "import openpyxl\n",
    "import nltk\n",
    "from nltk.corpus import stopwords"
   ]
  },
  {
   "cell_type": "markdown",
   "id": "36d659f8-08ee-4454-bb0c-236b35dd5d0f",
   "metadata": {},
   "source": [
    "En primer lugar importamos los excel correspondientes a ambos datasets (SPAM y NO SPAM)"
   ]
  },
  {
   "cell_type": "code",
   "execution_count": 2,
   "id": "8f0f6c6a-b3ad-4ce3-a5e3-3eeb1485bf44",
   "metadata": {},
   "outputs": [],
   "source": [
    "data = pd.read_excel('../data_spam/SPAM_JMA.xlsx')\n",
    "data_main = pd.read_excel('../data_spam/2024-TODOS.xlsx')"
   ]
  },
  {
   "cell_type": "code",
   "execution_count": 3,
   "id": "e5bc0545-c38c-4dfa-95aa-59dc763b1e8f",
   "metadata": {},
   "outputs": [
    {
     "data": {
      "text/html": [
       "<div>\n",
       "<style scoped>\n",
       "    .dataframe tbody tr th:only-of-type {\n",
       "        vertical-align: middle;\n",
       "    }\n",
       "\n",
       "    .dataframe tbody tr th {\n",
       "        vertical-align: top;\n",
       "    }\n",
       "\n",
       "    .dataframe thead th {\n",
       "        text-align: right;\n",
       "    }\n",
       "</style>\n",
       "<table border=\"1\" class=\"dataframe\">\n",
       "  <thead>\n",
       "    <tr style=\"text-align: right;\">\n",
       "      <th></th>\n",
       "      <th>eml_body</th>\n",
       "      <th>eml_from</th>\n",
       "    </tr>\n",
       "  </thead>\n",
       "  <tbody>\n",
       "    <tr>\n",
       "      <th>0</th>\n",
       "      <td>\\t_x000d_\\n\\tSi vous ne parvenez pas à lire ce...</td>\n",
       "      <td>info@news.seleccionfiguras.com</td>\n",
       "    </tr>\n",
       "    <tr>\n",
       "      <th>1</th>\n",
       "      <td>\\tAlgunos contactos que recibieron este mensaj...</td>\n",
       "      <td>hanson@dyparking.co.kr</td>\n",
       "    </tr>\n",
       "    <tr>\n",
       "      <th>2</th>\n",
       "      <td>Ce message vous est adressé par Manageo pour l...</td>\n",
       "      <td>m.michel@mp.aconclue-pro.com</td>\n",
       "    </tr>\n",
       "    <tr>\n",
       "      <th>3</th>\n",
       "      <td>Bonjour M. RENASSIA, _x000d_\\n_x000d_\\n_x000d_...</td>\n",
       "      <td>sandra-de-rgpd@veml02.com</td>\n",
       "    </tr>\n",
       "    <tr>\n",
       "      <th>4</th>\n",
       "      <td>&lt;https://nl.cepartsoftware.com/MCP53133623730...</td>\n",
       "      <td>staff.news@cepartscatalog.it</td>\n",
       "    </tr>\n",
       "  </tbody>\n",
       "</table>\n",
       "</div>"
      ],
      "text/plain": [
       "                                            eml_body  \\\n",
       "0  \\t_x000d_\\n\\tSi vous ne parvenez pas à lire ce...   \n",
       "1  \\tAlgunos contactos que recibieron este mensaj...   \n",
       "2  Ce message vous est adressé par Manageo pour l...   \n",
       "3  Bonjour M. RENASSIA, _x000d_\\n_x000d_\\n_x000d_...   \n",
       "4   <https://nl.cepartsoftware.com/MCP53133623730...   \n",
       "\n",
       "                         eml_from  \n",
       "0  info@news.seleccionfiguras.com  \n",
       "1          hanson@dyparking.co.kr  \n",
       "2    m.michel@mp.aconclue-pro.com  \n",
       "3       sandra-de-rgpd@veml02.com  \n",
       "4    staff.news@cepartscatalog.it  "
      ]
     },
     "execution_count": 3,
     "metadata": {},
     "output_type": "execute_result"
    }
   ],
   "source": [
    "data.head()"
   ]
  },
  {
   "cell_type": "code",
   "execution_count": 4,
   "id": "18adab9b-320c-474f-96ad-53bdd36927b1",
   "metadata": {},
   "outputs": [
    {
     "data": {
      "text/html": [
       "<div>\n",
       "<style scoped>\n",
       "    .dataframe tbody tr th:only-of-type {\n",
       "        vertical-align: middle;\n",
       "    }\n",
       "\n",
       "    .dataframe tbody tr th {\n",
       "        vertical-align: top;\n",
       "    }\n",
       "\n",
       "    .dataframe thead th {\n",
       "        text-align: right;\n",
       "    }\n",
       "</style>\n",
       "<table border=\"1\" class=\"dataframe\">\n",
       "  <thead>\n",
       "    <tr style=\"text-align: right;\">\n",
       "      <th></th>\n",
       "      <th>CodigoTarea</th>\n",
       "      <th>IDEmail</th>\n",
       "      <th>De</th>\n",
       "      <th>Cuerpo</th>\n",
       "      <th>FechaCreacion</th>\n",
       "      <th>Categoria</th>\n",
       "      <th>Idioma</th>\n",
       "    </tr>\n",
       "  </thead>\n",
       "  <tbody>\n",
       "    <tr>\n",
       "      <th>0</th>\n",
       "      <td>1176970</td>\n",
       "      <td>1672446</td>\n",
       "      <td>ecommerce.spareparts@hidral.com</td>\n",
       "      <td>_x000d_\\n_x000d_\\n _x000d_\\n_x000d_\\nDe: eCom...</td>\n",
       "      <td>2024-01-09</td>\n",
       "      <td>OREP</td>\n",
       "      <td>E</td>\n",
       "    </tr>\n",
       "    <tr>\n",
       "      <th>1</th>\n",
       "      <td>1177144</td>\n",
       "      <td>1672695</td>\n",
       "      <td>a.gallardo@hidral.fr</td>\n",
       "      <td>Buenas:_x000d_\\nHemos recibido este mail de un...</td>\n",
       "      <td>2024-01-09</td>\n",
       "      <td>DOC</td>\n",
       "      <td>E</td>\n",
       "    </tr>\n",
       "    <tr>\n",
       "      <th>2</th>\n",
       "      <td>1177737</td>\n",
       "      <td>1673551</td>\n",
       "      <td>reisvila@hosteriasdetarragona.cat</td>\n",
       "      <td>Buenos días Sr. González,_x000d_\\n_x000d_\\nEn ...</td>\n",
       "      <td>2024-01-10</td>\n",
       "      <td>C</td>\n",
       "      <td>E</td>\n",
       "    </tr>\n",
       "    <tr>\n",
       "      <th>3</th>\n",
       "      <td>1177864</td>\n",
       "      <td>1673745</td>\n",
       "      <td>sulift@sapo.pt</td>\n",
       "      <td>Boa Tarde, _x000d_\\n_x000d_\\n _x000d_\\n_x000d_...</td>\n",
       "      <td>2024-01-10</td>\n",
       "      <td>OREP</td>\n",
       "      <td>E</td>\n",
       "    </tr>\n",
       "    <tr>\n",
       "      <th>4</th>\n",
       "      <td>1177864</td>\n",
       "      <td>1673881</td>\n",
       "      <td>sulift@sapo.pt</td>\n",
       "      <td>Boa tarde, _x000d_\\n_x000d_\\n _x000d_\\n_x000d_...</td>\n",
       "      <td>2024-01-10</td>\n",
       "      <td>OREP</td>\n",
       "      <td>E</td>\n",
       "    </tr>\n",
       "  </tbody>\n",
       "</table>\n",
       "</div>"
      ],
      "text/plain": [
       "   CodigoTarea  IDEmail                                 De  \\\n",
       "0      1176970  1672446    ecommerce.spareparts@hidral.com   \n",
       "1      1177144  1672695               a.gallardo@hidral.fr   \n",
       "2      1177737  1673551  reisvila@hosteriasdetarragona.cat   \n",
       "3      1177864  1673745                     sulift@sapo.pt   \n",
       "4      1177864  1673881                     sulift@sapo.pt   \n",
       "\n",
       "                                              Cuerpo FechaCreacion Categoria  \\\n",
       "0   _x000d_\\n_x000d_\\n _x000d_\\n_x000d_\\nDe: eCom...    2024-01-09      OREP   \n",
       "1  Buenas:_x000d_\\nHemos recibido este mail de un...    2024-01-09       DOC   \n",
       "2  Buenos días Sr. González,_x000d_\\n_x000d_\\nEn ...    2024-01-10         C   \n",
       "3  Boa Tarde, _x000d_\\n_x000d_\\n _x000d_\\n_x000d_...    2024-01-10      OREP   \n",
       "4  Boa tarde, _x000d_\\n_x000d_\\n _x000d_\\n_x000d_...    2024-01-10      OREP   \n",
       "\n",
       "  Idioma  \n",
       "0      E  \n",
       "1      E  \n",
       "2      E  \n",
       "3      E  \n",
       "4      E  "
      ]
     },
     "execution_count": 4,
     "metadata": {},
     "output_type": "execute_result"
    }
   ],
   "source": [
    "data_main.head()"
   ]
  },
  {
   "cell_type": "markdown",
   "id": "ab2189a0-9fc0-44d0-b11e-8d8d257ce65a",
   "metadata": {},
   "source": [
    "Creamos una función para limpiar los datos de cada uno de los contenidos del cuerpo"
   ]
  },
  {
   "cell_type": "code",
   "execution_count": 5,
   "id": "33773581-2a20-49d2-a372-11f07666fc89",
   "metadata": {},
   "outputs": [
    {
     "name": "stderr",
     "output_type": "stream",
     "text": [
      "[nltk_data] Downloading package stopwords to /home/jose-\n",
      "[nltk_data]     manuel/nltk_data...\n",
      "[nltk_data]   Package stopwords is already up-to-date!\n"
     ]
    }
   ],
   "source": [
    "# Asegúrate de descargar las stopwords\n",
    "nltk.download('stopwords')\n",
    "\n",
    "# Función para limpiar el texto\n",
    "def clean_text(text):\n",
    "    text = str(text)\n",
    "    # Eliminar caracteres no deseados (como xd)\n",
    "    text = re.sub(r'\\bxd\\b', '', text)\n",
    "    \n",
    "    # Eliminar caracteres no deseados (como x000d)\n",
    "    text = re.sub(r'\\bx000d\\b', '', text)\n",
    "    \n",
    "    # Eliminar URLs y correos electrónicos\n",
    "    text = re.sub(r'http\\S+|www\\S+|https\\S+|mailto:\\S+', '', text)\n",
    "    \n",
    "    # Mantener solo palabras en español (puedes ajustar esto según tus necesidades)\n",
    "    # Convertir a minúsculas\n",
    "    text = text.lower()\n",
    "    # Eliminar caracteres no alfabéticos y espacios extra\n",
    "    text = re.sub(r'[^a-záéíóúñü\\s]', '', text)\n",
    "    \n",
    "    # Dividir el texto en palabras\n",
    "    words = text.split()\n",
    "    \n",
    "    # Filtrar stopwords\n",
    "    spanish_stopwords = set(stopwords.words('spanish'))\n",
    "    filtered_words = [word for word in words if word not in spanish_stopwords]\n",
    "    \n",
    "    return ' '.join(filtered_words)"
   ]
  },
  {
   "cell_type": "markdown",
   "id": "e52ead8a-9f45-4c06-8fcd-7701f7bbd0bc",
   "metadata": {},
   "source": [
    "Realizamos los cambios pertinentes para el Dataframe de los **SPAM**"
   ]
  },
  {
   "cell_type": "code",
   "execution_count": 6,
   "id": "319c09d7-664e-4dd6-a1e2-b7b6d83b0cf2",
   "metadata": {},
   "outputs": [
    {
     "data": {
      "text/html": [
       "<div>\n",
       "<style scoped>\n",
       "    .dataframe tbody tr th:only-of-type {\n",
       "        vertical-align: middle;\n",
       "    }\n",
       "\n",
       "    .dataframe tbody tr th {\n",
       "        vertical-align: top;\n",
       "    }\n",
       "\n",
       "    .dataframe thead th {\n",
       "        text-align: right;\n",
       "    }\n",
       "</style>\n",
       "<table border=\"1\" class=\"dataframe\">\n",
       "  <thead>\n",
       "    <tr style=\"text-align: right;\">\n",
       "      <th></th>\n",
       "      <th>Cuerpo</th>\n",
       "      <th>Categoria</th>\n",
       "    </tr>\n",
       "  </thead>\n",
       "  <tbody>\n",
       "    <tr>\n",
       "      <th>0</th>\n",
       "      <td>xd si vous ne parvenez pas lire ce message vis...</td>\n",
       "      <td>SPAM</td>\n",
       "    </tr>\n",
       "    <tr>\n",
       "      <th>1</th>\n",
       "      <td>contactos recibieron mensaje suelen recibir co...</td>\n",
       "      <td>SPAM</td>\n",
       "    </tr>\n",
       "    <tr>\n",
       "      <th>2</th>\n",
       "      <td>ce message vous est adressé par manageo pour c...</td>\n",
       "      <td>SPAM</td>\n",
       "    </tr>\n",
       "    <tr>\n",
       "      <th>3</th>\n",
       "      <td>bonjour m renassia xd xd xd tesvous sre garant...</td>\n",
       "      <td>SPAM</td>\n",
       "    </tr>\n",
       "    <tr>\n",
       "      <th>4</th>\n",
       "      <td>xd xd xd hábito hace monje layout hace catálog...</td>\n",
       "      <td>SPAM</td>\n",
       "    </tr>\n",
       "  </tbody>\n",
       "</table>\n",
       "</div>"
      ],
      "text/plain": [
       "                                              Cuerpo Categoria\n",
       "0  xd si vous ne parvenez pas lire ce message vis...      SPAM\n",
       "1  contactos recibieron mensaje suelen recibir co...      SPAM\n",
       "2  ce message vous est adressé par manageo pour c...      SPAM\n",
       "3  bonjour m renassia xd xd xd tesvous sre garant...      SPAM\n",
       "4  xd xd xd hábito hace monje layout hace catálog...      SPAM"
      ]
     },
     "execution_count": 6,
     "metadata": {},
     "output_type": "execute_result"
    }
   ],
   "source": [
    "data['eml_body'] = data['eml_body'].apply(clean_text) \n",
    "data['Categoria'] = 'SPAM'\n",
    "data['Cuerpo'] = data['eml_body'] + data['eml_from']\n",
    "data = data[['Cuerpo', 'Categoria']]\n",
    "data.head()"
   ]
  },
  {
   "cell_type": "markdown",
   "id": "4eba2d4e-f34d-4652-bc20-c0c0660272be",
   "metadata": {},
   "source": [
    "Hacemos lo mismo para los **NO SPAM**. En este caso tenemos que realizar también un *group by* para ignorar los correos de una misma tarea que no sea el primero, para el correcto funcionamiento del modelo posteriormente. "
   ]
  },
  {
   "cell_type": "code",
   "execution_count": 7,
   "id": "4c95d85d-bd85-4146-928c-27e686031afd",
   "metadata": {},
   "outputs": [
    {
     "data": {
      "text/html": [
       "<div>\n",
       "<style scoped>\n",
       "    .dataframe tbody tr th:only-of-type {\n",
       "        vertical-align: middle;\n",
       "    }\n",
       "\n",
       "    .dataframe tbody tr th {\n",
       "        vertical-align: top;\n",
       "    }\n",
       "\n",
       "    .dataframe thead th {\n",
       "        text-align: right;\n",
       "    }\n",
       "</style>\n",
       "<table border=\"1\" class=\"dataframe\">\n",
       "  <thead>\n",
       "    <tr style=\"text-align: right;\">\n",
       "      <th></th>\n",
       "      <th>Cuerpo</th>\n",
       "      <th>Categoria</th>\n",
       "    </tr>\n",
       "  </thead>\n",
       "  <tbody>\n",
       "    <tr>\n",
       "      <th>0</th>\n",
       "      <td>buen día felices fiestasxd xd hace año hizo pe...</td>\n",
       "      <td>SAT</td>\n",
       "    </tr>\n",
       "    <tr>\n",
       "      <th>1</th>\n",
       "      <td>buenos díasxd xd xd xd enrique millán antonio ...</td>\n",
       "      <td>SEG</td>\n",
       "    </tr>\n",
       "    <tr>\n",
       "      <th>2</th>\n",
       "      <td>good morningxd xd xd xd please find below our ...</td>\n",
       "      <td>SEG</td>\n",
       "    </tr>\n",
       "    <tr>\n",
       "      <th>3</th>\n",
       "      <td>hello xd xd is it possible to share the quote ...</td>\n",
       "      <td>OREP</td>\n",
       "    </tr>\n",
       "    <tr>\n",
       "      <th>4</th>\n",
       "      <td>buenos díasxd xd xd xd podéis indicar favor re...</td>\n",
       "      <td>SEG</td>\n",
       "    </tr>\n",
       "  </tbody>\n",
       "</table>\n",
       "</div>"
      ],
      "text/plain": [
       "                                              Cuerpo Categoria\n",
       "0  buen día felices fiestasxd xd hace año hizo pe...       SAT\n",
       "1  buenos díasxd xd xd xd enrique millán antonio ...       SEG\n",
       "2  good morningxd xd xd xd please find below our ...       SEG\n",
       "3  hello xd xd is it possible to share the quote ...      OREP\n",
       "4  buenos díasxd xd xd xd podéis indicar favor re...       SEG"
      ]
     },
     "execution_count": 7,
     "metadata": {},
     "output_type": "execute_result"
    }
   ],
   "source": [
    "data_main = data_main.groupby(by='CodigoTarea').agg({\n",
    "        'IDEmail': 'first',\n",
    "        'De': 'first',\n",
    "        'Cuerpo': 'first',\n",
    "        'FechaCreacion': 'first',\n",
    "        'Categoria': 'first',\n",
    "        'Idioma': 'first'\n",
    "    }).reset_index()\n",
    "data_main['Cuerpo'] = data_main['Cuerpo'].apply(clean_text)\n",
    "data_main['Cuerpo'] = data_main['Cuerpo'] + data_main['De']\n",
    "data_main = data_main[['Cuerpo', 'Categoria']]\n",
    "data_main.head()"
   ]
  },
  {
   "cell_type": "markdown",
   "id": "18b9581d-7256-419b-9fbd-49fbc2a62040",
   "metadata": {},
   "source": [
    "Por último tenemos que unir ambos para meterlos al modelo"
   ]
  },
  {
   "cell_type": "code",
   "execution_count": 8,
   "id": "bd467f50-3398-4c8a-bf38-bbc540f3d53e",
   "metadata": {},
   "outputs": [],
   "source": [
    "combined_data = pd.concat([data, data_main])"
   ]
  },
  {
   "cell_type": "code",
   "execution_count": 11,
   "id": "c1b12058-945f-4f5d-9a7d-d97547b507a7",
   "metadata": {},
   "outputs": [],
   "source": [
    "combined_data = combined_data.sample(frac=1, random_state=42).reset_index(drop=True)"
   ]
  },
  {
   "cell_type": "code",
   "execution_count": 12,
   "id": "3b8ec020-1bf9-468e-8b87-2daf9478f7cf",
   "metadata": {},
   "outputs": [
    {
     "data": {
      "text/html": [
       "<div>\n",
       "<style scoped>\n",
       "    .dataframe tbody tr th:only-of-type {\n",
       "        vertical-align: middle;\n",
       "    }\n",
       "\n",
       "    .dataframe tbody tr th {\n",
       "        vertical-align: top;\n",
       "    }\n",
       "\n",
       "    .dataframe thead th {\n",
       "        text-align: right;\n",
       "    }\n",
       "</style>\n",
       "<table border=\"1\" class=\"dataframe\">\n",
       "  <thead>\n",
       "    <tr style=\"text-align: right;\">\n",
       "      <th></th>\n",
       "      <th>Cuerpo</th>\n",
       "      <th>Categoria</th>\n",
       "    </tr>\n",
       "  </thead>\n",
       "  <tbody>\n",
       "    <tr>\n",
       "      <th>0</th>\n",
       "      <td>dear colleauguesxd xd xd xd kindly find below ...</td>\n",
       "      <td>OMOD</td>\n",
       "    </tr>\n",
       "    <tr>\n",
       "      <th>1</th>\n",
       "      <td>papeles lelgado hoy fabrica menos martes xdjes...</td>\n",
       "      <td>SEG</td>\n",
       "    </tr>\n",
       "    <tr>\n",
       "      <th>2</th>\n",
       "      <td>xd xd xd xd xd xd xd xd xd xd xd xd xd xd xd x...</td>\n",
       "      <td>SPAM</td>\n",
       "    </tr>\n",
       "    <tr>\n",
       "      <th>3</th>\n",
       "      <td>xd ver online xd xd xd xd xd especialistas gam...</td>\n",
       "      <td>SPAM</td>\n",
       "    </tr>\n",
       "    <tr>\n",
       "      <th>4</th>\n",
       "      <td>hi oscar xd xd i need the programming details ...</td>\n",
       "      <td>DOC</td>\n",
       "    </tr>\n",
       "  </tbody>\n",
       "</table>\n",
       "</div>"
      ],
      "text/plain": [
       "                                              Cuerpo Categoria\n",
       "0  dear colleauguesxd xd xd xd kindly find below ...      OMOD\n",
       "1  papeles lelgado hoy fabrica menos martes xdjes...       SEG\n",
       "2  xd xd xd xd xd xd xd xd xd xd xd xd xd xd xd x...      SPAM\n",
       "3  xd ver online xd xd xd xd xd especialistas gam...      SPAM\n",
       "4  hi oscar xd xd i need the programming details ...       DOC"
      ]
     },
     "execution_count": 12,
     "metadata": {},
     "output_type": "execute_result"
    }
   ],
   "source": [
    "combined_data.head()"
   ]
  },
  {
   "cell_type": "code",
   "execution_count": 13,
   "id": "a4487762-453c-41cb-9e58-d3c4b1322e1f",
   "metadata": {},
   "outputs": [
    {
     "data": {
      "text/plain": [
       "Cuerpo       4\n",
       "Categoria    0\n",
       "dtype: int64"
      ]
     },
     "execution_count": 13,
     "metadata": {},
     "output_type": "execute_result"
    }
   ],
   "source": [
    "combined_data.isna().sum()"
   ]
  },
  {
   "cell_type": "code",
   "execution_count": null,
   "id": "8f293a9b-ffdd-4fb7-9de3-c03313face15",
   "metadata": {},
   "outputs": [],
   "source": []
  }
 ],
 "metadata": {
  "kernelspec": {
   "display_name": "Automatization Classification",
   "language": "python",
   "name": ".venv"
  },
  "language_info": {
   "codemirror_mode": {
    "name": "ipython",
    "version": 3
   },
   "file_extension": ".py",
   "mimetype": "text/x-python",
   "name": "python",
   "nbconvert_exporter": "python",
   "pygments_lexer": "ipython3",
   "version": "3.12.3"
  }
 },
 "nbformat": 4,
 "nbformat_minor": 5
}
